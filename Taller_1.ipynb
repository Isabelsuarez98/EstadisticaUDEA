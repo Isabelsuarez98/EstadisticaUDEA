{
 "cells": [
  {
   "cell_type": "markdown",
   "id": "006de3a4-c8f8-4b1f-b50d-22db88261df7",
   "metadata": {},
   "source": [
    "# **Trabajo 1: Estadística y Análisis Exploratorio**\n",
    "\n",
    "**Integrantes:**\n",
    "- Andrés Camilo Henao Serna.\n",
    "- Anderson Fabian Blanco.\n",
    "- Isabel Cristina Suárez Roldán."
   ]
  },
  {
   "cell_type": "markdown",
   "id": "d9e46f78-d5a7-4fcf-be6a-64cffbde56e7",
   "metadata": {},
   "source": [
    "Para solucionar los siguentes enunciados es necesario platear, de ser posible, la(s) variable(s) a utilizar, su distribución y los parámetros con sus respectivos valores. Además su solución debe incluir el código en Python utilzado para su\n",
    "solución."
   ]
  },
  {
   "cell_type": "markdown",
   "id": "1d6545c3-b928-4d5a-a874-489a6cc8ac41",
   "metadata": {},
   "source": [
    "**1.** Una caja contiene:\n",
    "\n",
    "- 3 monedas de **$1000**\n",
    "\n",
    "- 4 monedas de **$500**\n",
    "\n",
    "- 5 monedas de **$200** \n",
    "   \n",
    "Se extraen al azar y sin reemplazo 3 modedas de la caja. La probabilidad de que el total obtenido sea superior a **$2000** es?"
   ]
  },
  {
   "cell_type": "markdown",
   "id": "39f489c8-908a-45c6-8e81-121ee7f7b15c",
   "metadata": {},
   "source": [
    "Sea:\n",
    "- M: moneda de **$1000**\n",
    "  \n",
    "- Q: moneda de **$500**\n",
    "\n",
    "- D: moneda de **$200**\n",
    "\n",
    "- X: Total obtenido al sacar 3 monedas\n",
    "\n",
    "S:{MMM,MMQ,MMD,MQQ,MDD,MQD,QQQ,QQD,QDD,DDD} -> Hay un total de 10 combinaciones posibles\n",
    "\n",
    "| Posibles combinaciones   | MMM  | MMQ  | MMD  | MQQ  | MDD  | MQD  | QQQ  | QQD  | QDD  | DDD  |\n",
    "|--------------------------|------|------|------|------|------|------|------|------|------|------|\n",
    "| X ($) | 3000 | 2500 | 2200 | 2000 | 1400 | 1700 | 1500 | 1200 | 900 | 600 |\n"
   ]
  },
  {
   "cell_type": "code",
   "execution_count": 35,
   "id": "36ffb856-52a7-4cad-9dcd-15280d2ba59e",
   "metadata": {},
   "outputs": [
    {
     "name": "stdout",
     "output_type": "stream",
     "text": [
      "El total de combinaciones posibles es: 220\n",
      "El total de casos favorables es: 28\n",
      "Probabilidad exacta de obtener más de $2000: P(X>2000) = 0.1273\n",
      "La probabilidad de que el total obtenido sea superior a $2000 es 12.73 %\n"
     ]
    }
   ],
   "source": [
    "from math import comb\n",
    "\n",
    "# Cada combinación puede ocurrir en 3! = 6 formas diferentes. \n",
    "# Total de combinaciones posibles = (12*11*10/6)\n",
    "\n",
    "total_casos = comb(12, 3)\n",
    "print(f\"El total de combinaciones posibles es: {total_casos:}\")\n",
    "\n",
    "# Sea X: Total obtenido al sacar 3 monedas\n",
    "# Probabilidades: P(X=3000)=1/220, P(X=2500)=3*4/220=12/220, P(X=2200)=3*5/220=15/220\n",
    "\n",
    "# Casos favorables donde la suma es estrictamente mayor a 2000\n",
    "casos_favorables = (comb(3, 3)) + (comb(3, 2) * comb(4, 1)) + (comb(3, 2) * comb(5, 1))\n",
    "print(f\"El total de casos favorables es: {casos_favorables:}\")\n",
    "\n",
    "# Calcular probabilidad\n",
    "probabilidad = casos_favorables / total_casos\n",
    "print(f\"Probabilidad exacta de obtener más de $2000: P(X>2000) = {probabilidad_exacta:.4f}\")\n",
    "\n",
    "resultado = (probabilidad * 100)\n",
    "print(f\"La probabilidad de que el total obtenido sea superior a $2000 es {resultado:.2f} %\")"
   ]
  },
  {
   "cell_type": "markdown",
   "id": "1f0b1bcd-6f54-433b-9508-843ebfe2443f",
   "metadata": {},
   "source": [
    "**2.** Se supone que el resultado en cierta prueba de aptitud es una variable aleatoria normal con un puntaje medio de\n",
    "78 y una desviación estándar de 6. Suponga que un gran número de personas presentan dicha prueba. De todos\n",
    "los que obtienen puntajes superiores a 75, la proporción de personas que obtienen puntajes superiores a 85 es?"
   ]
  },
  {
   "cell_type": "code",
   "execution_count": 16,
   "id": "9e79b808-79f3-4592-9c54-5933dffe56d9",
   "metadata": {},
   "outputs": [
    {
     "name": "stdout",
     "output_type": "stream",
     "text": [
      "La probabilidad de que X > 75 es: P(X>75) = 0.6915\n",
      "La probabilidad de que X > 85 es: P(X>85) = 0.1217\n",
      "La probabilidad de que X > 85 tal que X > 75 es: P(X>85|X>75) = 0.1760\n",
      "De todos los que obtienen puntajes superiores a 75, el porcentaje de personas que obtienen puntajes superiores a 85 es 17.60 %\n"
     ]
    }
   ],
   "source": [
    "# X: Resultado de la prueba de aptitud\n",
    "# X ~ N(μ,σ^2)\n",
    "# σ = 6 (Desvicación estándar)\n",
    "# E(X) = μ = 78 (Media)\n",
    "# V(X) = σ^2 = 6^2 = 36 (Varianza)\n",
    "\n",
    "#P(X>85|X>75) = P(X>75 ∩ X>85)/P(X>75) = P(X>85)/P(X>75) -> Nota: Si una persona obtiene un puntaje mayor a 85, automáticamente también obtuvo más de 75.\n",
    "\n",
    "from scipy.stats import norm\n",
    "\n",
    "mu = 78\n",
    "sigma = 6\n",
    "X_1 = 75\n",
    "X_2 = 85\n",
    "\n",
    "p_mayor_75 = 1 - norm.cdf(X_1, mu, sigma)\n",
    "p_mayor_85 = 1 - norm.cdf(X_2, mu, sigma)\n",
    "probabilidad = p_mayor_85 / p_mayor_75\n",
    "\n",
    "print(f\"La probabilidad de que X > 75 es: P(X>75) = {p_mayor_75:.4f}\")\n",
    "print(f\"La probabilidad de que X > 85 es: P(X>85) = {p_mayor_85:.4f}\")\n",
    "print(f\"La probabilidad de que X > 85 tal que X > 75 es: P(X>85|X>75) = {probabilidad:.4f}\")\n",
    "\n",
    "resultado = (probabilidad * 100)\n",
    "print(f\"De todos los que obtienen puntajes superiores a 75, el porcentaje de personas que obtienen puntajes superiores a 85 es {resultado:.2f} %\")"
   ]
  },
  {
   "cell_type": "markdown",
   "id": "a596fe56-0cab-49fe-a0e8-0b437468cf4d",
   "metadata": {},
   "source": [
    "**3.** En la portería de la Universidad, se ha implementado el uso de un lector electrónico que permite el registro de\n",
    "ingreso de las personas a la universidad. Sin embargo, en un día cualquiera, la probabilidad de que el lector presente fallas es 0.1. Suponga que el lector funciona los 365 días del año. Sea X: el número de días en el año en los cuales el lector presenta fallas. La probabilidad aproximada de que X esté entre 30 < X < 50 es?\n"
   ]
  },
  {
   "cell_type": "code",
   "execution_count": 1,
   "id": "e26604ff-544f-4adb-bdef-2292ae392256",
   "metadata": {},
   "outputs": [
    {
     "name": "stdout",
     "output_type": "stream",
     "text": [
      "Aproximación exacta: \n",
      "La probabilidad de que X < 30 es: P(X<30) = 0.1468\n",
      "La probabilidad de que X < 50 es: P(X<50) = 0.9856\n",
      "La probabilidad de que 30 < X < 50 es: 83.87\n",
      "Aplicamos la aproximación normal de la binomial: \n",
      "Z_1 = -1.0468\n",
      "Z_2 = 2.2682\n",
      "La probabilidad de que Z < Z_1 es: P(Z<Z_1) = 0.1476\n",
      "La probabilidad de que Z < Z_2 es: P(Z<Z_2) = 0.9883\n",
      "La probabilidad de que 30 ≤ X ≤ 50 es: 84.08\n",
      "Error: -0.20\n"
     ]
    }
   ],
   "source": [
    "# X: Número de díasen el año en los que el lector presenta fallas\n",
    "# n = 365\n",
    "# p = 0.1\n",
    "#X~Bin(n=365,p=0.1)\n",
    "\n",
    "#P(30<X<50) = P(X<50)-P(X<30) \n",
    "\n",
    "import scipy.stats as stats\n",
    "from scipy.stats import binom\n",
    "from scipy.stats import norm\n",
    "\n",
    "n = 365 # días del año\n",
    "p = 0.1 # probabilidad de falla en un día (probabilidad de exito)\n",
    "X_1 = 30\n",
    "X_2 = 49\n",
    "\n",
    "p_menor_30 = binom.cdf(X_1, n, p)\n",
    "p_menor_50 = binom.cdf(X_2, n, p)\n",
    "\n",
    "print(f\"Aproximación exacta: \")\n",
    "\n",
    "# No podemos tomar el 50, entonces termina en el 49, y en la otra probabilidad se toma hasta el 30, ya que queremos restar incluyendo el 30.\n",
    "\n",
    "print(f\"La probabilidad de que X < 30 es: P(X<30) = {p_menor_30:.4f}\")\n",
    "print(f\"La probabilidad de que X < 50 es: P(X<50) = {p_menor_50:.4f}\")\n",
    "probabilidad = p_menor_50 - p_menor_30\n",
    "prob_exacta = (probabilidad * 100)\n",
    "\n",
    "print(f\"La probabilidad de que 30 < X < 50 es: {prob_exacta:.2f}\")\n",
    "\n",
    "#Sin embargo, como n=365 se considera un n grande y por lo tanto, se puede hacer una aproximación normal de la binomial.\n",
    "\n",
    "# X ~ N(μ,σ^2)\n",
    "# E(X) = μ = np = 365*0.1 (Media)\n",
    "# V(X) = np(1-p) = 36.5*(1-0.1) (Varianza)\n",
    "# σ = (V)^0.5 = 5.7315 (Desvicación estándar)\n",
    "\n",
    "# Ahora bien, por factor de corrección: P(30.5<X<49.5)\n",
    "# Z = (X - μ)/σ\n",
    "\n",
    "print(f\"Aplicamos la aproximación normal de la binomial: \")\n",
    "\n",
    "mu = n*p  # Promedio\n",
    "sigma = (n*p*(1-p))**0.5  # Desviación estándar\n",
    "X_1_C = 30 + 0.5\n",
    "X_2_C = 50 - 0.5\n",
    "\n",
    "# Convertir los límites a valores Z\n",
    "Z_1 = (X_1_C-mu)/sigma\n",
    "Z_2 = (X_2_C-mu)/sigma\n",
    "print(f\"Z_1 = {Z_1:.4f}\")\n",
    "print(f\"Z_2 = {Z_2:.4f}\")\n",
    "\n",
    "p_menor_30_Z_1 = stats.norm.cdf(Z_1)\n",
    "p_menor_50_Z_2 = stats.norm.cdf(Z_2)\n",
    "print(f\"La probabilidad de que Z < Z_1 es: P(Z<Z_1) = {p_menor_30_Z_1:.4f}\")\n",
    "print(f\"La probabilidad de que Z < Z_2 es: P(Z<Z_2) = {p_menor_50_Z_2:.4f}\")\n",
    "\n",
    "prob_aprox = ( p_menor_50_Z_2 - p_menor_30_Z_1)*100\n",
    "\n",
    "print(f\"La probabilidad de que 30 ≤ X ≤ 50 es: {prob_aprox:.2f}\")\n",
    "\n",
    "# Error \n",
    "error = prob_exacta - prob_aprox\n",
    "print(f\"Error: {error:.2f}\")"
   ]
  },
  {
   "cell_type": "markdown",
   "id": "dab05bf0-80a1-4c9e-bd76-9474e614685d",
   "metadata": {},
   "source": [
    "**4.** Por experiencia se sabe que el 25% de los estudiantes de un curso, el cual se califica de 0 a 5, lo reprueban. Se sabe\n",
    "que las notas obtenidas por los estudiantes en dicho curso tienen una distribución normal con una nota media\n",
    "de 3.6. Si un estudiante termina el curso, la probabilidad de que su nota sea superior a 4 es?"
   ]
  },
  {
   "cell_type": "code",
   "execution_count": 4,
   "id": "80c1d28e-914d-4c5d-8d17-8a4ef942d989",
   "metadata": {},
   "outputs": [
    {
     "name": "stdout",
     "output_type": "stream",
     "text": [
      "La desviación estándar σ = 0.8896\n",
      "El valor de z es: 0.4497\n",
      "Si un estudiante termina el curso, la probabilidad de que su nota sea superior a 4 es: 32.65\n"
     ]
    }
   ],
   "source": [
    "# X: Calificacón\n",
    "# X ~ N(μ,σ^2)\n",
    "# E(X) = μ = np = 3.6 (Media)\n",
    "# V(X) = np(1-p) = 3.6*(1-p) =  (Varianza)\n",
    "# σ = (V)^0.5 (Desvicación estándar)\n",
    "\n",
    "# Sabemos que el 25% de los estudiantes reprueban. En una distribución normal estándar el percentil 25% corresponde a un valor \n",
    "# de Z de aproximadamente -0.674 (De la tabla de distribución normal).\n",
    "\n",
    "# Suponiendo que el curso se aprueba con una nota superor a 3.0.\n",
    "# Para X = 3.0 -> Z = -0.674 = (3.0 - μ)/ σ y despejando: σ = (3.0 - μ)/(-0.674)\n",
    "\n",
    "Z_25 = norm.ppf(0.25)\n",
    "mu = 3.6\n",
    "X = 3.0\n",
    "\n",
    "sigma = (X-mu)/Z_25\n",
    "print(f\"La desviación estándar σ = {sigma:.4f}\")\n",
    "\n",
    "# Ahora, P(X>4) = ((X - μ)/ σ > (4.0 - μ)/ σ) = (Z > z)\n",
    "\n",
    "z = (4.0 - mu)/ sigma\n",
    "print(f\"El valor de z es: {z:.4f}\")\n",
    "\n",
    "p_mayor_4 = (1-stats.norm.cdf(z))*100\n",
    "print(f\"Si un estudiante termina el curso, la probabilidad de que su nota sea superior a 4 es: {p_mayor_4:.2f}\")"
   ]
  },
  {
   "cell_type": "markdown",
   "id": "8939fe11-705b-40f3-a625-b64993f19bd5",
   "metadata": {},
   "source": [
    "**5.** El operador de una estación de bombeo observa que el tiempo de consumo del agua durante las primeras horas\n",
    "de la tarde tiene aproximadamente una distribución exponencial con una media de 120 seg. La probabilidad de\n",
    "que el tiempo de consumo sea superior a los 180 seg. durante las primeras horas de la tarde en un día seleccionado\n",
    "al azar es?"
   ]
  },
  {
   "cell_type": "code",
   "execution_count": 8,
   "id": "b2124731-8e55-4a38-830a-f11f7664f357",
   "metadata": {},
   "outputs": [
    {
     "name": "stdout",
     "output_type": "stream",
     "text": [
      "λ = 0.00833\n",
      "La probabilidad P(X > 180) = 22.31302\n",
      "La probabilidad P(X > 180) - Forma directa = 22.31302\n"
     ]
    }
   ],
   "source": [
    "# X:tiempo de consumo del agua durante las primeras horas de la tarde (seg)\n",
    "# E(x) = 120 seg = 1/ λ (Media)\n",
    "# X~Exp( λ= 1/120)\n",
    "\n",
    "import numpy as np\n",
    "\n",
    "mu = 120\n",
    "lambda_1 = 1 / mu\n",
    "X = 180\n",
    "print(f\"λ = {lambda_1:.5f}\")\n",
    "\n",
    "# P(X>180)=1−P(T≤180)\n",
    "\n",
    "# Cálculo de la probabilidad P(X ≤ 180)\n",
    "p_menor_igual_180 = 1 - np.exp(-lambda_1 * X)\n",
    "\n",
    "#Cálculo de la probabilidad P(X > 180)\n",
    "p_mayor_180 = (1 - p_menor_igual_180)*100\n",
    "\n",
    "# Forma directa\n",
    "respuesta = (stats.expon.sf(X, scale = mu))*100\n",
    "\n",
    "print(f\"La probabilidad P(X > 180) = {p_mayor_180:.5f}\")\n",
    "print(f\"La probabilidad P(X > 180) - Forma directa = {respuesta:.5f}\")"
   ]
  }
 ],
 "metadata": {
  "kernelspec": {
   "display_name": "Python 3 (ipykernel)",
   "language": "python",
   "name": "python3"
  },
  "language_info": {
   "codemirror_mode": {
    "name": "ipython",
    "version": 3
   },
   "file_extension": ".py",
   "mimetype": "text/x-python",
   "name": "python",
   "nbconvert_exporter": "python",
   "pygments_lexer": "ipython3",
   "version": "3.9.21"
  }
 },
 "nbformat": 4,
 "nbformat_minor": 5
}
